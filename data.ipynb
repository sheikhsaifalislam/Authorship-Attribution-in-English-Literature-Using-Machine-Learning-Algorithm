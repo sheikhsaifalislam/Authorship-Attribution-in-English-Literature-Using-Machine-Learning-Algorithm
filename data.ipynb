{
 "cells": [
  {
   "cell_type": "code",
   "execution_count": 1,
   "metadata": {},
   "outputs": [],
   "source": [
    "from nltk import tokenize\n",
    "import numpy as np\n",
    "import random\n",
    "import pandas as pd"
   ]
  },
  {
   "cell_type": "code",
   "execution_count": 2,
   "metadata": {},
   "outputs": [],
   "source": [
    "def split_text(filepath, min_char):\n",
    "    \n",
    "    # Load data into string variable and remove new line characters\n",
    "    file = open(filepath, \"r\", encoding=\"utf8\")\n",
    "    text = file.read().replace('\\n', ' ')\n",
    "    text = text.replace('.”', '”.').replace('.\"', '\".').replace('?”', '”?').replace('!”', '”!')\n",
    "    text = text.replace('--', ' ').replace('. . .', '').replace('_', '')\n",
    "    file.close()\n",
    "    \n",
    "    # Split text into a list of sentences\n",
    "    sentences = tokenize.sent_tokenize(text)\n",
    "    \n",
    "    # Remove sentences that are less than min_char long\n",
    "    sentences = [sent for sent in sentences if len(sent) >= min_char]\n",
    "\n",
    "    return list(sentences)"
   ]
  },
  {
   "cell_type": "code",
   "execution_count": 3,
   "metadata": {},
   "outputs": [],
   "source": [
    "# Set parameter values\n",
    "min_char = 5\n",
    "\n",
    "# Create lists\n",
    "dickens = split_text('bis/A_Tale_of_Two_Cities.txt', min_char = min_char)\n",
    "montgomery = split_text('bis/Anne_of_Avonlea.txt', min_char = min_char)\n",
    "stoker = split_text('bis/Dracula.txt', min_char = min_char)\n",
    "austen = split_text('bis/Emma.txt', min_char = min_char)\n",
    "swift = split_text('bis/Gullivers_Travels.txt', min_char = min_char)\n",
    "thatcher = split_text('bis/Hard_Times.txt', min_char = min_char)\n",
    "twain = split_text('bis/Huckleberry_Finn.txt', min_char = min_char)\n",
    "alcott = split_text('bis/Little_Women.txt', min_char = min_char)\n",
    "doyle =  split_text('bis/The_Adventures_of_Sherlock_Holmes.txt', min_char = min_char)\n",
    "sinclair = split_text('bis/The_Jungle.txt', min_char = min_char)"
   ]
  },
  {
   "cell_type": "code",
   "execution_count": 4,
   "metadata": {},
   "outputs": [
    {
     "name": "stdout",
     "output_type": "stream",
     "text": [
      "Dickens : 7718\n",
      "Montgomery : 5497\n",
      "Stoker : 8641\n",
      "Austen : 8473\n",
      "Swift : 2840\n",
      "Thatcher : 4364\n",
      "Twain : 5839\n",
      "Alcott : 9447\n",
      "Doyle : 6475\n",
      "Sinclair : 6636\n"
     ]
    }
   ],
   "source": [
    "# Print length of each list\n",
    "\n",
    "text_dict = {'Dickens': dickens, 'Montgomery': montgomery, 'Stoker': stoker, 'Austen': austen, 'Swift': swift, 'Thatcher': thatcher, 'Twain': twain, 'Alcott': alcott, \n",
    "            'Doyle': doyle, 'Sinclair' : sinclair}\n",
    "\n",
    "for key in text_dict.keys():\n",
    "    print(key, ':', len(text_dict[key]))"
   ]
  },
  {
   "cell_type": "code",
   "execution_count": 5,
   "metadata": {},
   "outputs": [
    {
     "name": "stdout",
     "output_type": "stream",
     "text": [
      "The length of the combined list is: 40000\n"
     ]
    }
   ],
   "source": [
    "# Set random seed\n",
    "np.random.seed(1)\n",
    "\n",
    "# Set length parameter\n",
    "max_len = 4000\n",
    "\n",
    "# Select sentences\n",
    "names = [dickens, montgomery, stoker, austen, swift, thatcher, twain, alcott, doyle, sinclair]\n",
    "combined = []\n",
    "\n",
    "for name in names:\n",
    "    name = np.random.choice(name, max_len, replace = True)\n",
    "    combined += list(name)\n",
    "\n",
    "print('The length of the combined list is:', len(combined))"
   ]
  },
  {
   "cell_type": "code",
   "execution_count": 6,
   "metadata": {},
   "outputs": [
    {
     "name": "stdout",
     "output_type": "stream",
     "text": [
      "The length of the labels list is: 40000\n"
     ]
    }
   ],
   "source": [
    "labels = ['Dickens']*max_len + ['Montgomery']*max_len + ['Stoker']*max_len + ['Austen']*max_len\\\n",
    "         + ['Swift']*max_len + ['Thatcher']*max_len + ['Twain']*max_len\\\n",
    "         + ['Alcott']*max_len + ['Doyle']*max_len\\\n",
    "         + ['Sinclair']*max_len\n",
    "\n",
    "print('The length of the labels list is:', len(labels))"
   ]
  },
  {
   "cell_type": "code",
   "execution_count": 7,
   "metadata": {},
   "outputs": [],
   "source": [
    "# Set random seed\n",
    "random.seed(3)\n",
    "\n",
    "# Randomly shuffle data\n",
    "zipped = list(zip(combined, labels))\n",
    "random.shuffle(zipped)\n",
    "combined, labels = zip(*zipped)"
   ]
  },
  {
   "cell_type": "code",
   "execution_count": 8,
   "metadata": {},
   "outputs": [
    {
     "name": "stdout",
     "output_type": "stream",
     "text": [
      "                                                text      author\n",
      "0  Some of the \"New Women\" writers will some day ...      Stoker\n",
      "1   I mean the fact that you told a falsehood today.  Montgomery\n",
      "2                                says the bald-head.       Twain\n",
      "3  \"I shall marry whom I please, Aunt March, and ...      Alcott\n",
      "4   “Perhaps it was nothing very dreadful after all.  Montgomery\n"
     ]
    }
   ],
   "source": [
    "# Create pandas dataframe\n",
    "out_data = pd.DataFrame()\n",
    "out_data['text'] = combined\n",
    "out_data['author'] = labels\n",
    "\n",
    "print(out_data.head())"
   ]
  },
  {
   "cell_type": "code",
   "execution_count": 9,
   "metadata": {},
   "outputs": [],
   "source": [
    "# Export as a csv file\n",
    "out_data.to_csv('author_data.csv', index=False)"
   ]
  },
  {
   "cell_type": "code",
   "execution_count": null,
   "metadata": {},
   "outputs": [],
   "source": []
  }
 ],
 "metadata": {
  "kernelspec": {
   "display_name": "Python 3",
   "language": "python",
   "name": "python3"
  },
  "language_info": {
   "codemirror_mode": {
    "name": "ipython",
    "version": 3
   },
   "file_extension": ".py",
   "mimetype": "text/x-python",
   "name": "python",
   "nbconvert_exporter": "python",
   "pygments_lexer": "ipython3",
   "version": "3.7.4"
  }
 },
 "nbformat": 4,
 "nbformat_minor": 2
}
